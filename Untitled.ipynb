{
 "cells": [
  {
   "cell_type": "code",
   "execution_count": 19,
   "metadata": {
    "collapsed": true
   },
   "outputs": [],
   "source": [
    "# takes in world space s, followed by segment waypoints\n",
    "def get_local_s(s, local_s, world_s):\n",
    "    prev_wp = 0\n",
    "    # special case: first wp in list is larger than s. Meaning we are crossing over 0 somewhere. Go to there first\n",
    "    if (world_s[0] > s):\n",
    "        while (world_s[prev_wp] != 0.0):\n",
    "            prev_wp += 1\n",
    "    \n",
    "    while (world_s[prev_wp+1] < s) and (world_s[prev_wp+1] != 0):\n",
    "        prev_wp += 1\n",
    "    print(prev_wp)\n",
    "    diff_world = s - world_s[prev_wp]\n",
    "    new_s_local = local_s[prev_wp] + diff_world\n",
    "    print(new_s_local)\n",
    "    "
   ]
  },
  {
   "cell_type": "code",
   "execution_count": 25,
   "metadata": {},
   "outputs": [
    {
     "name": "stdout",
     "output_type": "stream",
     "text": [
      "0\n",
      "4.420000000000073\n"
     ]
    }
   ],
   "source": [
    "local_s = [0.0, 46.9795, 92.5137, 135.972, 178.572, 209.976, 240.651, 270.023, 300.427, 330.666, 360.352, 390.336, 421.626, 453.899]\n",
    "world_s = [6735.58, 6782.56, 6828.09, 6871.55, 6914.15, 0, 30.6745, 60.0464, 90.4504, 120.69, 150.376, 180.359, 211.649, 243.923]\n",
    "\n",
    "get_local_s(6740, local_s, world_s)"
   ]
  },
  {
   "cell_type": "code",
   "execution_count": 8,
   "metadata": {},
   "outputs": [
    {
     "name": "stdout",
     "output_type": "stream",
     "text": [
      "3\n",
      "110.02339999999998\n"
     ]
    }
   ],
   "source": [
    "local_s = [0.0, 30.6745, 60.0464, 90.4504, 120.69, 150.376, 180.359, 211.649, 243.923]\n",
    "world_s = [209.976, 240.651, 270.023, 300.427, 330.666, 360.352, 390.336, 421.626, 453.899]\n",
    "\n",
    "get_local_s(320.0, local_s, world_s)"
   ]
  },
  {
   "cell_type": "code",
   "execution_count": null,
   "metadata": {
    "collapsed": true
   },
   "outputs": [],
   "source": []
  }
 ],
 "metadata": {
  "kernelspec": {
   "display_name": "Python 3",
   "language": "python",
   "name": "python3"
  },
  "language_info": {
   "codemirror_mode": {
    "name": "ipython",
    "version": 3
   },
   "file_extension": ".py",
   "mimetype": "text/x-python",
   "name": "python",
   "nbconvert_exporter": "python",
   "pygments_lexer": "ipython3",
   "version": "3.5.2"
  }
 },
 "nbformat": 4,
 "nbformat_minor": 2
}
